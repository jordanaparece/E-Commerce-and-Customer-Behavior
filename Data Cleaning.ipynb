{
 "cells": [
  {
   "cell_type": "code",
   "execution_count": 2,
   "id": "ebc2c56d",
   "metadata": {},
   "outputs": [],
   "source": [
    "import pandas as pd"
   ]
  },
  {
   "cell_type": "code",
   "execution_count": 3,
   "id": "f1685bae",
   "metadata": {},
   "outputs": [],
   "source": [
    "# Load in the raw csv file\n",
    "file_path = r\"C:\\Users\\japar\\OneDrive\\Desktop\\SQL\\E-Commerce Customer Data for Behavior Analysis\\ecommerce_customer_data_combined.csv\"\n",
    "df = pd.read_csv(file_path)"
   ]
  },
  {
   "cell_type": "code",
   "execution_count": 4,
   "id": "6666c7aa",
   "metadata": {},
   "outputs": [
    {
     "name": "stdout",
     "output_type": "stream",
     "text": [
      "Initial shape: (500000, 13)\n",
      "   Customer ID     Purchase Date Product Category  Product Price  Quantity  \\\n",
      "0        46251     9/8/2020 9:38      Electronics             12         3   \n",
      "1        46251    3/5/2022 12:56             Home            468         4   \n",
      "2        46251   5/23/2022 18:18             Home            288         2   \n",
      "3        46251  11/12/2020 13:13         Clothing            196         1   \n",
      "4        13593  11/27/2020 17:55             Home            449         1   \n",
      "\n",
      "   Total Purchase Amount Payment Method  Customer Age  Returns  \\\n",
      "0                    740    Credit Card            37      0.0   \n",
      "1                   2739         PayPal            37      0.0   \n",
      "2                   3196         PayPal            37      0.0   \n",
      "3                   3509         PayPal            37      0.0   \n",
      "4                   3452    Credit Card            49      0.0   \n",
      "\n",
      "         Customer Name  Age  Gender  Churn  \n",
      "0  Christine Hernandez   37    Male      0  \n",
      "1  Christine Hernandez   37    Male      0  \n",
      "2  Christine Hernandez   37    Male      0  \n",
      "3  Christine Hernandez   37    Male      0  \n",
      "4          James Grant   49  Female      1  \n"
     ]
    }
   ],
   "source": [
    "# Preview\n",
    "print(\"Initial shape:\", df.shape)\n",
    "print(df.head())"
   ]
  },
  {
   "cell_type": "code",
   "execution_count": 5,
   "id": "f7cff817",
   "metadata": {},
   "outputs": [],
   "source": [
    "# Basic cleaning\n",
    "# Drop duplicates in any row\n",
    "df = df.drop_duplicates()\n"
   ]
  },
  {
   "cell_type": "code",
   "execution_count": 6,
   "id": "0500390a",
   "metadata": {},
   "outputs": [],
   "source": [
    "# Standardize column names\n",
    "df.columns = [col.strip().lower().replace(\" \", \"_\") for col in df.columns]"
   ]
  },
  {
   "cell_type": "code",
   "execution_count": 7,
   "id": "fcd4545b",
   "metadata": {},
   "outputs": [],
   "source": [
    "# Convert purchase_date to datetime\n",
    "df['purchase_date'] = pd.to_datetime(df['purchase_date'], errors = 'coerce')"
   ]
  },
  {
   "cell_type": "code",
   "execution_count": 8,
   "id": "0c2cb578",
   "metadata": {},
   "outputs": [],
   "source": [
    "# Filling missing values in numeric columns (except special cases)\n",
    "special_handling = ['returns', 'churn', 'age']\n",
    "numeric_cols = df.select_dtypes(include = ['float64', 'int64']).columns\n",
    "for col in numeric_cols:\n",
    "    if col not in special_handling:\n",
    "        df[col] = df[col].fillna(df[col].mean())"
   ]
  },
  {
   "cell_type": "code",
   "execution_count": 9,
   "id": "e47963c0",
   "metadata": {},
   "outputs": [],
   "source": [
    "# Filling the payment_method column with 'Credit Card' for NULLS\n",
    "df['payment_method'] = df['payment_method'].fillna('Credit Card')"
   ]
  },
  {
   "cell_type": "code",
   "execution_count": 10,
   "id": "0938377b",
   "metadata": {},
   "outputs": [],
   "source": [
    "# Fill return NULLS with '0'\n",
    "df['returns'] = df['returns'].fillna(0).astype(int)"
   ]
  },
  {
   "cell_type": "code",
   "execution_count": 11,
   "id": "3a9ca9fa",
   "metadata": {},
   "outputs": [],
   "source": [
    "# Fill age NULLS with mean and convert to an int\n",
    "df['age'] = df['age'].fillna(df['age'].mean()).astype(int)"
   ]
  },
  {
   "cell_type": "code",
   "execution_count": 12,
   "id": "52c54a71",
   "metadata": {},
   "outputs": [],
   "source": [
    "# Fill gender NULLS with 'Male'\n",
    "df['gender'] = df['gender'].fillna(\"Male\")"
   ]
  },
  {
   "cell_type": "code",
   "execution_count": 13,
   "id": "622b6328",
   "metadata": {},
   "outputs": [],
   "source": [
    "# Fill churn NULLS with 1 and convert to an int\n",
    "df['churn'] = df['churn'].fillna(1).astype(int)"
   ]
  },
  {
   "cell_type": "code",
   "execution_count": 14,
   "id": "53ac1970",
   "metadata": {},
   "outputs": [],
   "source": [
    "# Feature engineering\n",
    "# Day of the week from purchase_date\n",
    "df['day_of_week'] = df['purchase_date'].dt.day_name()"
   ]
  },
  {
   "cell_type": "code",
   "execution_count": 15,
   "id": "10fba751",
   "metadata": {},
   "outputs": [],
   "source": [
    "# Finding weekend purchases\n",
    "df['is_weekend'] = df['day_of_week'].isin(['Saturday', 'Sunday'])"
   ]
  },
  {
   "cell_type": "code",
   "execution_count": 16,
   "id": "b6a6b9d9",
   "metadata": {},
   "outputs": [],
   "source": [
    "# Total value of each transaction\n",
    "df['total_revenue'] = df['product_price'] * df['quantity']"
   ]
  },
  {
   "cell_type": "code",
   "execution_count": 17,
   "id": "a92c9e06",
   "metadata": {},
   "outputs": [],
   "source": [
    "# Creating spending buckets\n",
    "df['spend_bucket'] = pd.cut(df['total_revenue'],\n",
    "                            bins = [0, 50, 150, 300, float('inf')],\n",
    "                            labels = ['Low', \"Medium\", 'High', 'Very High'])"
   ]
  },
  {
   "cell_type": "code",
   "execution_count": 18,
   "id": "393406ce",
   "metadata": {},
   "outputs": [],
   "source": [
    "# Was the item returned?\n",
    "df['was_returned'] = df['returns'].apply(lambda x: 'Yes' if x == 1 else 'No')"
   ]
  },
  {
   "cell_type": "code",
   "execution_count": 19,
   "id": "1424d49e",
   "metadata": {},
   "outputs": [],
   "source": [
    "# Categorize gender to title case\n",
    "df['gender'] = df['gender'].str.title()"
   ]
  },
  {
   "cell_type": "code",
   "execution_count": 20,
   "id": "0ddf9398",
   "metadata": {},
   "outputs": [],
   "source": [
    "# Classifying periods of the day\n",
    "df['time_of_day'] = df['purchase_date'].dt.hour\n",
    "df['time_of_day'] = pd.cut(df['time_of_day'],\n",
    "                           bins = [-1, 6, 12, 17, 23],\n",
    "                           labels = ['Night', 'Morning', 'Afternoon', 'Evening'])"
   ]
  },
  {
   "cell_type": "code",
   "execution_count": 21,
   "id": "e88986e8",
   "metadata": {},
   "outputs": [],
   "source": [
    "output_path = r\"C:\\Users\\japar\\OneDrive\\Desktop\\SQL\\E-Commerce Customer Data for Behavior Analysis\\ecommerce_customer_data_CLEANED.csv\"\n",
    "df.to_csv(output_path, index=False)"
   ]
  },
  {
   "cell_type": "code",
   "execution_count": 22,
   "id": "220a61d3",
   "metadata": {},
   "outputs": [
    {
     "data": {
      "text/plain": [
       "Index(['customer_id', 'purchase_date', 'product_category', 'product_price',\n",
       "       'quantity', 'total_purchase_amount', 'payment_method', 'customer_age',\n",
       "       'returns', 'customer_name', 'age', 'gender', 'churn', 'day_of_week',\n",
       "       'is_weekend', 'total_revenue', 'spend_bucket', 'was_returned',\n",
       "       'time_of_day'],\n",
       "      dtype='object')"
      ]
     },
     "execution_count": 22,
     "metadata": {},
     "output_type": "execute_result"
    }
   ],
   "source": [
    "df.columns"
   ]
  }
 ],
 "metadata": {
  "kernelspec": {
   "display_name": "Python 3",
   "language": "python",
   "name": "python3"
  },
  "language_info": {
   "codemirror_mode": {
    "name": "ipython",
    "version": 3
   },
   "file_extension": ".py",
   "mimetype": "text/x-python",
   "name": "python",
   "nbconvert_exporter": "python",
   "pygments_lexer": "ipython3",
   "version": "3.11.9"
  }
 },
 "nbformat": 4,
 "nbformat_minor": 5
}
